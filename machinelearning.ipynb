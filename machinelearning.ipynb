{
 "cells": [
  {
   "cell_type": "code",
   "execution_count": 1,
   "metadata": {},
   "outputs": [],
   "source": [
    "import pandas as pd\n",
    "import numpy as np\n",
    "import matplotlib.pyplot as plt\n",
    "from sklearn.model_selection import train_test_split\n",
    "from sklearn.linear_model import LinearRegression\n",
    "from sklearn.metrics import r2_score\n",
    "import seaborn as sns"
   ]
  },
  {
   "cell_type": "code",
   "execution_count": 2,
   "metadata": {},
   "outputs": [],
   "source": [
    "data =pd.read_csv('loans.csv')"
   ]
  },
  {
   "cell_type": "markdown",
   "metadata": {},
   "source": [
    "# Get a feel of the data"
   ]
  },
  {
   "cell_type": "code",
   "execution_count": 3,
   "metadata": {},
   "outputs": [
    {
     "data": {
      "text/html": [
       "<div>\n",
       "<style scoped>\n",
       "    .dataframe tbody tr th:only-of-type {\n",
       "        vertical-align: middle;\n",
       "    }\n",
       "\n",
       "    .dataframe tbody tr th {\n",
       "        vertical-align: top;\n",
       "    }\n",
       "\n",
       "    .dataframe thead th {\n",
       "        text-align: right;\n",
       "    }\n",
       "</style>\n",
       "<table border=\"1\" class=\"dataframe\">\n",
       "  <thead>\n",
       "    <tr style=\"text-align: right;\">\n",
       "      <th></th>\n",
       "      <th>Customer_WID</th>\n",
       "      <th>DisbursementDate</th>\n",
       "      <th>Age</th>\n",
       "      <th>CustomerType</th>\n",
       "      <th>SOR</th>\n",
       "      <th>MonthsSinceOpen</th>\n",
       "      <th>MonthsSinceActive</th>\n",
       "      <th>FinancialMeasure1</th>\n",
       "      <th>FinancialMeasure2</th>\n",
       "      <th>FinancialMeasure3</th>\n",
       "      <th>FinancialMeasure4</th>\n",
       "      <th>CRBScore</th>\n",
       "      <th>Amount</th>\n",
       "      <th>Default</th>\n",
       "    </tr>\n",
       "  </thead>\n",
       "  <tbody>\n",
       "    <tr>\n",
       "      <th>0</th>\n",
       "      <td>380415</td>\n",
       "      <td>2017-10-13</td>\n",
       "      <td>27.0</td>\n",
       "      <td>1.0</td>\n",
       "      <td>3.0</td>\n",
       "      <td>53.0</td>\n",
       "      <td>0.0</td>\n",
       "      <td>0.0</td>\n",
       "      <td>25.85</td>\n",
       "      <td>7308.66</td>\n",
       "      <td>8885.0</td>\n",
       "      <td>547.0</td>\n",
       "      <td>1000.0</td>\n",
       "      <td>0</td>\n",
       "    </tr>\n",
       "    <tr>\n",
       "      <th>1</th>\n",
       "      <td>153249</td>\n",
       "      <td>2017-09-06</td>\n",
       "      <td>54.0</td>\n",
       "      <td>1.0</td>\n",
       "      <td>3.0</td>\n",
       "      <td>142.0</td>\n",
       "      <td>0.0</td>\n",
       "      <td>0.0</td>\n",
       "      <td>12.05</td>\n",
       "      <td>6268.00</td>\n",
       "      <td>3807.0</td>\n",
       "      <td>506.0</td>\n",
       "      <td>2050.0</td>\n",
       "      <td>0</td>\n",
       "    </tr>\n",
       "    <tr>\n",
       "      <th>2</th>\n",
       "      <td>82776</td>\n",
       "      <td>2017-09-25</td>\n",
       "      <td>44.0</td>\n",
       "      <td>2.0</td>\n",
       "      <td>5.0</td>\n",
       "      <td>70.0</td>\n",
       "      <td>0.0</td>\n",
       "      <td>0.0</td>\n",
       "      <td>369.04</td>\n",
       "      <td>15475.66</td>\n",
       "      <td>13883.0</td>\n",
       "      <td>554.0</td>\n",
       "      <td>500.0</td>\n",
       "      <td>0</td>\n",
       "    </tr>\n",
       "    <tr>\n",
       "      <th>3</th>\n",
       "      <td>190996</td>\n",
       "      <td>2017-06-23</td>\n",
       "      <td>30.0</td>\n",
       "      <td>1.0</td>\n",
       "      <td>5.0</td>\n",
       "      <td>93.0</td>\n",
       "      <td>0.0</td>\n",
       "      <td>0.0</td>\n",
       "      <td>403.01</td>\n",
       "      <td>13294.33</td>\n",
       "      <td>13481.0</td>\n",
       "      <td>569.0</td>\n",
       "      <td>200.0</td>\n",
       "      <td>0</td>\n",
       "    </tr>\n",
       "    <tr>\n",
       "      <th>4</th>\n",
       "      <td>375566</td>\n",
       "      <td>2017-08-23</td>\n",
       "      <td>36.0</td>\n",
       "      <td>1.0</td>\n",
       "      <td>5.0</td>\n",
       "      <td>116.0</td>\n",
       "      <td>0.0</td>\n",
       "      <td>39678.0</td>\n",
       "      <td>2143.38</td>\n",
       "      <td>20054.76</td>\n",
       "      <td>19227.4</td>\n",
       "      <td>633.0</td>\n",
       "      <td>7000.0</td>\n",
       "      <td>0</td>\n",
       "    </tr>\n",
       "  </tbody>\n",
       "</table>\n",
       "</div>"
      ],
      "text/plain": [
       "   Customer_WID DisbursementDate   Age  CustomerType  SOR  MonthsSinceOpen  \\\n",
       "0        380415       2017-10-13  27.0           1.0  3.0             53.0   \n",
       "1        153249       2017-09-06  54.0           1.0  3.0            142.0   \n",
       "2         82776       2017-09-25  44.0           2.0  5.0             70.0   \n",
       "3        190996       2017-06-23  30.0           1.0  5.0             93.0   \n",
       "4        375566       2017-08-23  36.0           1.0  5.0            116.0   \n",
       "\n",
       "   MonthsSinceActive  FinancialMeasure1  FinancialMeasure2  FinancialMeasure3  \\\n",
       "0                0.0                0.0              25.85            7308.66   \n",
       "1                0.0                0.0              12.05            6268.00   \n",
       "2                0.0                0.0             369.04           15475.66   \n",
       "3                0.0                0.0             403.01           13294.33   \n",
       "4                0.0            39678.0            2143.38           20054.76   \n",
       "\n",
       "   FinancialMeasure4  CRBScore  Amount  Default  \n",
       "0             8885.0     547.0  1000.0        0  \n",
       "1             3807.0     506.0  2050.0        0  \n",
       "2            13883.0     554.0   500.0        0  \n",
       "3            13481.0     569.0   200.0        0  \n",
       "4            19227.4     633.0  7000.0        0  "
      ]
     },
     "execution_count": 3,
     "metadata": {},
     "output_type": "execute_result"
    }
   ],
   "source": [
    "data.head()"
   ]
  },
  {
   "cell_type": "code",
   "execution_count": 4,
   "metadata": {},
   "outputs": [
    {
     "data": {
      "text/html": [
       "<div>\n",
       "<style scoped>\n",
       "    .dataframe tbody tr th:only-of-type {\n",
       "        vertical-align: middle;\n",
       "    }\n",
       "\n",
       "    .dataframe tbody tr th {\n",
       "        vertical-align: top;\n",
       "    }\n",
       "\n",
       "    .dataframe thead th {\n",
       "        text-align: right;\n",
       "    }\n",
       "</style>\n",
       "<table border=\"1\" class=\"dataframe\">\n",
       "  <thead>\n",
       "    <tr style=\"text-align: right;\">\n",
       "      <th></th>\n",
       "      <th>Customer_WID</th>\n",
       "      <th>Age</th>\n",
       "      <th>CustomerType</th>\n",
       "      <th>SOR</th>\n",
       "      <th>MonthsSinceOpen</th>\n",
       "      <th>MonthsSinceActive</th>\n",
       "      <th>FinancialMeasure1</th>\n",
       "      <th>FinancialMeasure2</th>\n",
       "      <th>FinancialMeasure3</th>\n",
       "      <th>FinancialMeasure4</th>\n",
       "      <th>CRBScore</th>\n",
       "      <th>Amount</th>\n",
       "      <th>Default</th>\n",
       "    </tr>\n",
       "  </thead>\n",
       "  <tbody>\n",
       "    <tr>\n",
       "      <th>count</th>\n",
       "      <td>500000.000000</td>\n",
       "      <td>499989.000000</td>\n",
       "      <td>499989.000000</td>\n",
       "      <td>499989.000000</td>\n",
       "      <td>499989.000000</td>\n",
       "      <td>499989.000000</td>\n",
       "      <td>4.999890e+05</td>\n",
       "      <td>4.999890e+05</td>\n",
       "      <td>4.999890e+05</td>\n",
       "      <td>4.999890e+05</td>\n",
       "      <td>499989.000000</td>\n",
       "      <td>500000.000000</td>\n",
       "      <td>500000.000000</td>\n",
       "    </tr>\n",
       "    <tr>\n",
       "      <th>mean</th>\n",
       "      <td>208928.520236</td>\n",
       "      <td>37.999568</td>\n",
       "      <td>1.279290</td>\n",
       "      <td>4.781061</td>\n",
       "      <td>89.711334</td>\n",
       "      <td>0.000004</td>\n",
       "      <td>1.535980e+04</td>\n",
       "      <td>1.190511e+04</td>\n",
       "      <td>1.009236e+05</td>\n",
       "      <td>1.018893e+05</td>\n",
       "      <td>586.127537</td>\n",
       "      <td>9155.098668</td>\n",
       "      <td>0.023830</td>\n",
       "    </tr>\n",
       "    <tr>\n",
       "      <th>std</th>\n",
       "      <td>120648.505833</td>\n",
       "      <td>10.986557</td>\n",
       "      <td>0.448664</td>\n",
       "      <td>0.910897</td>\n",
       "      <td>33.675991</td>\n",
       "      <td>0.002828</td>\n",
       "      <td>3.584068e+04</td>\n",
       "      <td>5.380335e+04</td>\n",
       "      <td>7.665491e+05</td>\n",
       "      <td>7.765588e+05</td>\n",
       "      <td>109.543161</td>\n",
       "      <td>16812.813799</td>\n",
       "      <td>0.152519</td>\n",
       "    </tr>\n",
       "    <tr>\n",
       "      <th>min</th>\n",
       "      <td>2.000000</td>\n",
       "      <td>3.000000</td>\n",
       "      <td>0.000000</td>\n",
       "      <td>0.000000</td>\n",
       "      <td>4.000000</td>\n",
       "      <td>0.000000</td>\n",
       "      <td>0.000000e+00</td>\n",
       "      <td>-4.523452e+06</td>\n",
       "      <td>0.000000e+00</td>\n",
       "      <td>0.000000e+00</td>\n",
       "      <td>0.000000</td>\n",
       "      <td>100.000000</td>\n",
       "      <td>0.000000</td>\n",
       "    </tr>\n",
       "    <tr>\n",
       "      <th>25%</th>\n",
       "      <td>104443.750000</td>\n",
       "      <td>30.000000</td>\n",
       "      <td>1.000000</td>\n",
       "      <td>4.000000</td>\n",
       "      <td>65.000000</td>\n",
       "      <td>0.000000</td>\n",
       "      <td>0.000000e+00</td>\n",
       "      <td>7.661200e+02</td>\n",
       "      <td>1.186523e+04</td>\n",
       "      <td>1.109770e+04</td>\n",
       "      <td>547.000000</td>\n",
       "      <td>2000.000000</td>\n",
       "      <td>0.000000</td>\n",
       "    </tr>\n",
       "    <tr>\n",
       "      <th>50%</th>\n",
       "      <td>209088.500000</td>\n",
       "      <td>36.000000</td>\n",
       "      <td>1.000000</td>\n",
       "      <td>5.000000</td>\n",
       "      <td>96.000000</td>\n",
       "      <td>0.000000</td>\n",
       "      <td>0.000000e+00</td>\n",
       "      <td>2.819820e+03</td>\n",
       "      <td>1.939200e+04</td>\n",
       "      <td>1.861900e+04</td>\n",
       "      <td>603.000000</td>\n",
       "      <td>4900.000000</td>\n",
       "      <td>0.000000</td>\n",
       "    </tr>\n",
       "    <tr>\n",
       "      <th>75%</th>\n",
       "      <td>313030.250000</td>\n",
       "      <td>44.000000</td>\n",
       "      <td>2.000000</td>\n",
       "      <td>5.000000</td>\n",
       "      <td>116.000000</td>\n",
       "      <td>0.000000</td>\n",
       "      <td>2.076600e+04</td>\n",
       "      <td>7.417820e+03</td>\n",
       "      <td>3.872886e+04</td>\n",
       "      <td>3.740300e+04</td>\n",
       "      <td>653.000000</td>\n",
       "      <td>9900.000000</td>\n",
       "      <td>0.000000</td>\n",
       "    </tr>\n",
       "    <tr>\n",
       "      <th>max</th>\n",
       "      <td>418241.000000</td>\n",
       "      <td>118.000000</td>\n",
       "      <td>3.000000</td>\n",
       "      <td>8.000000</td>\n",
       "      <td>144.000000</td>\n",
       "      <td>2.000000</td>\n",
       "      <td>2.186055e+06</td>\n",
       "      <td>5.705195e+06</td>\n",
       "      <td>9.747924e+07</td>\n",
       "      <td>9.467495e+07</td>\n",
       "      <td>747.000000</td>\n",
       "      <td>200000.000000</td>\n",
       "      <td>1.000000</td>\n",
       "    </tr>\n",
       "  </tbody>\n",
       "</table>\n",
       "</div>"
      ],
      "text/plain": [
       "        Customer_WID            Age   CustomerType            SOR  \\\n",
       "count  500000.000000  499989.000000  499989.000000  499989.000000   \n",
       "mean   208928.520236      37.999568       1.279290       4.781061   \n",
       "std    120648.505833      10.986557       0.448664       0.910897   \n",
       "min         2.000000       3.000000       0.000000       0.000000   \n",
       "25%    104443.750000      30.000000       1.000000       4.000000   \n",
       "50%    209088.500000      36.000000       1.000000       5.000000   \n",
       "75%    313030.250000      44.000000       2.000000       5.000000   \n",
       "max    418241.000000     118.000000       3.000000       8.000000   \n",
       "\n",
       "       MonthsSinceOpen  MonthsSinceActive  FinancialMeasure1  \\\n",
       "count    499989.000000      499989.000000       4.999890e+05   \n",
       "mean         89.711334           0.000004       1.535980e+04   \n",
       "std          33.675991           0.002828       3.584068e+04   \n",
       "min           4.000000           0.000000       0.000000e+00   \n",
       "25%          65.000000           0.000000       0.000000e+00   \n",
       "50%          96.000000           0.000000       0.000000e+00   \n",
       "75%         116.000000           0.000000       2.076600e+04   \n",
       "max         144.000000           2.000000       2.186055e+06   \n",
       "\n",
       "       FinancialMeasure2  FinancialMeasure3  FinancialMeasure4       CRBScore  \\\n",
       "count       4.999890e+05       4.999890e+05       4.999890e+05  499989.000000   \n",
       "mean        1.190511e+04       1.009236e+05       1.018893e+05     586.127537   \n",
       "std         5.380335e+04       7.665491e+05       7.765588e+05     109.543161   \n",
       "min        -4.523452e+06       0.000000e+00       0.000000e+00       0.000000   \n",
       "25%         7.661200e+02       1.186523e+04       1.109770e+04     547.000000   \n",
       "50%         2.819820e+03       1.939200e+04       1.861900e+04     603.000000   \n",
       "75%         7.417820e+03       3.872886e+04       3.740300e+04     653.000000   \n",
       "max         5.705195e+06       9.747924e+07       9.467495e+07     747.000000   \n",
       "\n",
       "              Amount        Default  \n",
       "count  500000.000000  500000.000000  \n",
       "mean     9155.098668       0.023830  \n",
       "std     16812.813799       0.152519  \n",
       "min       100.000000       0.000000  \n",
       "25%      2000.000000       0.000000  \n",
       "50%      4900.000000       0.000000  \n",
       "75%      9900.000000       0.000000  \n",
       "max    200000.000000       1.000000  "
      ]
     },
     "execution_count": 4,
     "metadata": {},
     "output_type": "execute_result"
    }
   ],
   "source": [
    "data.describe()"
   ]
  },
  {
   "cell_type": "code",
   "execution_count": 5,
   "metadata": {},
   "outputs": [
    {
     "data": {
      "text/plain": [
       "Customer_WID           int64\n",
       "DisbursementDate      object\n",
       "Age                  float64\n",
       "CustomerType         float64\n",
       "SOR                  float64\n",
       "MonthsSinceOpen      float64\n",
       "MonthsSinceActive    float64\n",
       "FinancialMeasure1    float64\n",
       "FinancialMeasure2    float64\n",
       "FinancialMeasure3    float64\n",
       "FinancialMeasure4    float64\n",
       "CRBScore             float64\n",
       "Amount               float64\n",
       "Default                int64\n",
       "dtype: object"
      ]
     },
     "execution_count": 5,
     "metadata": {},
     "output_type": "execute_result"
    }
   ],
   "source": [
    "data.dtypes"
   ]
  },
  {
   "cell_type": "code",
   "execution_count": 7,
   "metadata": {},
   "outputs": [
    {
     "name": "stdout",
     "output_type": "stream",
     "text": [
      "<class 'pandas.core.frame.DataFrame'>\n",
      "RangeIndex: 500000 entries, 0 to 499999\n",
      "Data columns (total 14 columns):\n",
      "Customer_WID         500000 non-null int64\n",
      "DisbursementDate     500000 non-null object\n",
      "Age                  499989 non-null float64\n",
      "CustomerType         499989 non-null float64\n",
      "SOR                  499989 non-null float64\n",
      "MonthsSinceOpen      499989 non-null float64\n",
      "MonthsSinceActive    499989 non-null float64\n",
      "FinancialMeasure1    499989 non-null float64\n",
      "FinancialMeasure2    499989 non-null float64\n",
      "FinancialMeasure3    499989 non-null float64\n",
      "FinancialMeasure4    499989 non-null float64\n",
      "CRBScore             499989 non-null float64\n",
      "Amount               500000 non-null float64\n",
      "Default              500000 non-null int64\n",
      "dtypes: float64(11), int64(2), object(1)\n",
      "memory usage: 53.4+ MB\n"
     ]
    }
   ],
   "source": [
    "data.info()"
   ]
  },
  {
   "cell_type": "markdown",
   "metadata": {},
   "source": [
    "# FEATURE ENGINEERING"
   ]
  },
  {
   "cell_type": "markdown",
   "metadata": {},
   "source": [
    "Dealing with missing values"
   ]
  },
  {
   "cell_type": "code",
   "execution_count": 8,
   "metadata": {},
   "outputs": [
    {
     "data": {
      "text/plain": [
       "Customer_WID          0\n",
       "DisbursementDate      0\n",
       "Age                  11\n",
       "CustomerType         11\n",
       "SOR                  11\n",
       "MonthsSinceOpen      11\n",
       "MonthsSinceActive    11\n",
       "FinancialMeasure1    11\n",
       "FinancialMeasure2    11\n",
       "FinancialMeasure3    11\n",
       "FinancialMeasure4    11\n",
       "CRBScore             11\n",
       "Amount                0\n",
       "Default               0\n",
       "dtype: int64"
      ]
     },
     "execution_count": 8,
     "metadata": {},
     "output_type": "execute_result"
    }
   ],
   "source": [
    "data.isnull().sum()"
   ]
  },
  {
   "cell_type": "code",
   "execution_count": 10,
   "metadata": {},
   "outputs": [],
   "source": [
    "# drop rows with missing values\n",
    "data= data.dropna(axis=0)"
   ]
  },
  {
   "cell_type": "code",
   "execution_count": 11,
   "metadata": {},
   "outputs": [
    {
     "data": {
      "text/html": [
       "<div>\n",
       "<style scoped>\n",
       "    .dataframe tbody tr th:only-of-type {\n",
       "        vertical-align: middle;\n",
       "    }\n",
       "\n",
       "    .dataframe tbody tr th {\n",
       "        vertical-align: top;\n",
       "    }\n",
       "\n",
       "    .dataframe thead th {\n",
       "        text-align: right;\n",
       "    }\n",
       "</style>\n",
       "<table border=\"1\" class=\"dataframe\">\n",
       "  <thead>\n",
       "    <tr style=\"text-align: right;\">\n",
       "      <th></th>\n",
       "      <th>Customer_WID</th>\n",
       "      <th>Age</th>\n",
       "      <th>CustomerType</th>\n",
       "      <th>SOR</th>\n",
       "      <th>MonthsSinceOpen</th>\n",
       "      <th>MonthsSinceActive</th>\n",
       "      <th>FinancialMeasure1</th>\n",
       "      <th>FinancialMeasure2</th>\n",
       "      <th>FinancialMeasure3</th>\n",
       "      <th>FinancialMeasure4</th>\n",
       "      <th>CRBScore</th>\n",
       "      <th>Amount</th>\n",
       "      <th>Default</th>\n",
       "    </tr>\n",
       "  </thead>\n",
       "  <tbody>\n",
       "    <tr>\n",
       "      <th>count</th>\n",
       "      <td>499989.000000</td>\n",
       "      <td>499989.000000</td>\n",
       "      <td>499989.000000</td>\n",
       "      <td>499989.000000</td>\n",
       "      <td>499989.000000</td>\n",
       "      <td>499989.000000</td>\n",
       "      <td>4.999890e+05</td>\n",
       "      <td>4.999890e+05</td>\n",
       "      <td>4.999890e+05</td>\n",
       "      <td>4.999890e+05</td>\n",
       "      <td>499989.000000</td>\n",
       "      <td>499989.000000</td>\n",
       "      <td>499989.000000</td>\n",
       "    </tr>\n",
       "    <tr>\n",
       "      <th>mean</th>\n",
       "      <td>208930.517313</td>\n",
       "      <td>37.999568</td>\n",
       "      <td>1.279290</td>\n",
       "      <td>4.781061</td>\n",
       "      <td>89.711334</td>\n",
       "      <td>0.000004</td>\n",
       "      <td>1.535980e+04</td>\n",
       "      <td>1.190511e+04</td>\n",
       "      <td>1.009236e+05</td>\n",
       "      <td>1.018893e+05</td>\n",
       "      <td>586.127537</td>\n",
       "      <td>9153.715950</td>\n",
       "      <td>0.023831</td>\n",
       "    </tr>\n",
       "    <tr>\n",
       "      <th>std</th>\n",
       "      <td>120648.290434</td>\n",
       "      <td>10.986557</td>\n",
       "      <td>0.448664</td>\n",
       "      <td>0.910897</td>\n",
       "      <td>33.675991</td>\n",
       "      <td>0.002828</td>\n",
       "      <td>3.584068e+04</td>\n",
       "      <td>5.380335e+04</td>\n",
       "      <td>7.665491e+05</td>\n",
       "      <td>7.765588e+05</td>\n",
       "      <td>109.543161</td>\n",
       "      <td>16807.781322</td>\n",
       "      <td>0.152521</td>\n",
       "    </tr>\n",
       "    <tr>\n",
       "      <th>min</th>\n",
       "      <td>2.000000</td>\n",
       "      <td>3.000000</td>\n",
       "      <td>0.000000</td>\n",
       "      <td>0.000000</td>\n",
       "      <td>4.000000</td>\n",
       "      <td>0.000000</td>\n",
       "      <td>0.000000e+00</td>\n",
       "      <td>-4.523452e+06</td>\n",
       "      <td>0.000000e+00</td>\n",
       "      <td>0.000000e+00</td>\n",
       "      <td>0.000000</td>\n",
       "      <td>100.000000</td>\n",
       "      <td>0.000000</td>\n",
       "    </tr>\n",
       "    <tr>\n",
       "      <th>25%</th>\n",
       "      <td>104449.000000</td>\n",
       "      <td>30.000000</td>\n",
       "      <td>1.000000</td>\n",
       "      <td>4.000000</td>\n",
       "      <td>65.000000</td>\n",
       "      <td>0.000000</td>\n",
       "      <td>0.000000e+00</td>\n",
       "      <td>7.661200e+02</td>\n",
       "      <td>1.186523e+04</td>\n",
       "      <td>1.109770e+04</td>\n",
       "      <td>547.000000</td>\n",
       "      <td>2000.000000</td>\n",
       "      <td>0.000000</td>\n",
       "    </tr>\n",
       "    <tr>\n",
       "      <th>50%</th>\n",
       "      <td>209089.000000</td>\n",
       "      <td>36.000000</td>\n",
       "      <td>1.000000</td>\n",
       "      <td>5.000000</td>\n",
       "      <td>96.000000</td>\n",
       "      <td>0.000000</td>\n",
       "      <td>0.000000e+00</td>\n",
       "      <td>2.819820e+03</td>\n",
       "      <td>1.939200e+04</td>\n",
       "      <td>1.861900e+04</td>\n",
       "      <td>603.000000</td>\n",
       "      <td>4900.000000</td>\n",
       "      <td>0.000000</td>\n",
       "    </tr>\n",
       "    <tr>\n",
       "      <th>75%</th>\n",
       "      <td>313031.000000</td>\n",
       "      <td>44.000000</td>\n",
       "      <td>2.000000</td>\n",
       "      <td>5.000000</td>\n",
       "      <td>116.000000</td>\n",
       "      <td>0.000000</td>\n",
       "      <td>2.076600e+04</td>\n",
       "      <td>7.417820e+03</td>\n",
       "      <td>3.872886e+04</td>\n",
       "      <td>3.740300e+04</td>\n",
       "      <td>653.000000</td>\n",
       "      <td>9900.000000</td>\n",
       "      <td>0.000000</td>\n",
       "    </tr>\n",
       "    <tr>\n",
       "      <th>max</th>\n",
       "      <td>418241.000000</td>\n",
       "      <td>118.000000</td>\n",
       "      <td>3.000000</td>\n",
       "      <td>8.000000</td>\n",
       "      <td>144.000000</td>\n",
       "      <td>2.000000</td>\n",
       "      <td>2.186055e+06</td>\n",
       "      <td>5.705195e+06</td>\n",
       "      <td>9.747924e+07</td>\n",
       "      <td>9.467495e+07</td>\n",
       "      <td>747.000000</td>\n",
       "      <td>200000.000000</td>\n",
       "      <td>1.000000</td>\n",
       "    </tr>\n",
       "  </tbody>\n",
       "</table>\n",
       "</div>"
      ],
      "text/plain": [
       "        Customer_WID            Age   CustomerType            SOR  \\\n",
       "count  499989.000000  499989.000000  499989.000000  499989.000000   \n",
       "mean   208930.517313      37.999568       1.279290       4.781061   \n",
       "std    120648.290434      10.986557       0.448664       0.910897   \n",
       "min         2.000000       3.000000       0.000000       0.000000   \n",
       "25%    104449.000000      30.000000       1.000000       4.000000   \n",
       "50%    209089.000000      36.000000       1.000000       5.000000   \n",
       "75%    313031.000000      44.000000       2.000000       5.000000   \n",
       "max    418241.000000     118.000000       3.000000       8.000000   \n",
       "\n",
       "       MonthsSinceOpen  MonthsSinceActive  FinancialMeasure1  \\\n",
       "count    499989.000000      499989.000000       4.999890e+05   \n",
       "mean         89.711334           0.000004       1.535980e+04   \n",
       "std          33.675991           0.002828       3.584068e+04   \n",
       "min           4.000000           0.000000       0.000000e+00   \n",
       "25%          65.000000           0.000000       0.000000e+00   \n",
       "50%          96.000000           0.000000       0.000000e+00   \n",
       "75%         116.000000           0.000000       2.076600e+04   \n",
       "max         144.000000           2.000000       2.186055e+06   \n",
       "\n",
       "       FinancialMeasure2  FinancialMeasure3  FinancialMeasure4       CRBScore  \\\n",
       "count       4.999890e+05       4.999890e+05       4.999890e+05  499989.000000   \n",
       "mean        1.190511e+04       1.009236e+05       1.018893e+05     586.127537   \n",
       "std         5.380335e+04       7.665491e+05       7.765588e+05     109.543161   \n",
       "min        -4.523452e+06       0.000000e+00       0.000000e+00       0.000000   \n",
       "25%         7.661200e+02       1.186523e+04       1.109770e+04     547.000000   \n",
       "50%         2.819820e+03       1.939200e+04       1.861900e+04     603.000000   \n",
       "75%         7.417820e+03       3.872886e+04       3.740300e+04     653.000000   \n",
       "max         5.705195e+06       9.747924e+07       9.467495e+07     747.000000   \n",
       "\n",
       "              Amount        Default  \n",
       "count  499989.000000  499989.000000  \n",
       "mean     9153.715950       0.023831  \n",
       "std     16807.781322       0.152521  \n",
       "min       100.000000       0.000000  \n",
       "25%      2000.000000       0.000000  \n",
       "50%      4900.000000       0.000000  \n",
       "75%      9900.000000       0.000000  \n",
       "max    200000.000000       1.000000  "
      ]
     },
     "execution_count": 11,
     "metadata": {},
     "output_type": "execute_result"
    }
   ],
   "source": [
    "data.describe()"
   ]
  },
  {
   "cell_type": "code",
   "execution_count": 12,
   "metadata": {},
   "outputs": [
    {
     "name": "stdout",
     "output_type": "stream",
     "text": [
      "<class 'pandas.core.frame.DataFrame'>\n",
      "Int64Index: 499989 entries, 0 to 499999\n",
      "Data columns (total 14 columns):\n",
      "Customer_WID         499989 non-null int64\n",
      "DisbursementDate     499989 non-null object\n",
      "Age                  499989 non-null float64\n",
      "CustomerType         499989 non-null float64\n",
      "SOR                  499989 non-null float64\n",
      "MonthsSinceOpen      499989 non-null float64\n",
      "MonthsSinceActive    499989 non-null float64\n",
      "FinancialMeasure1    499989 non-null float64\n",
      "FinancialMeasure2    499989 non-null float64\n",
      "FinancialMeasure3    499989 non-null float64\n",
      "FinancialMeasure4    499989 non-null float64\n",
      "CRBScore             499989 non-null float64\n",
      "Amount               499989 non-null float64\n",
      "Default              499989 non-null int64\n",
      "dtypes: float64(11), int64(2), object(1)\n",
      "memory usage: 57.2+ MB\n"
     ]
    }
   ],
   "source": [
    "data.info()"
   ]
  },
  {
   "cell_type": "code",
   "execution_count": 13,
   "metadata": {},
   "outputs": [],
   "source": [
    "#data['Default']=data['Default'].astype('float')"
   ]
  },
  {
   "cell_type": "code",
   "execution_count": 14,
   "metadata": {},
   "outputs": [
    {
     "data": {
      "text/html": [
       "<div>\n",
       "<style scoped>\n",
       "    .dataframe tbody tr th:only-of-type {\n",
       "        vertical-align: middle;\n",
       "    }\n",
       "\n",
       "    .dataframe tbody tr th {\n",
       "        vertical-align: top;\n",
       "    }\n",
       "\n",
       "    .dataframe thead th {\n",
       "        text-align: right;\n",
       "    }\n",
       "</style>\n",
       "<table border=\"1\" class=\"dataframe\">\n",
       "  <thead>\n",
       "    <tr style=\"text-align: right;\">\n",
       "      <th></th>\n",
       "      <th>Customer_WID</th>\n",
       "      <th>Age</th>\n",
       "      <th>CustomerType</th>\n",
       "      <th>SOR</th>\n",
       "      <th>MonthsSinceOpen</th>\n",
       "      <th>MonthsSinceActive</th>\n",
       "      <th>FinancialMeasure1</th>\n",
       "      <th>FinancialMeasure2</th>\n",
       "      <th>FinancialMeasure3</th>\n",
       "      <th>FinancialMeasure4</th>\n",
       "      <th>CRBScore</th>\n",
       "      <th>Amount</th>\n",
       "      <th>Default</th>\n",
       "    </tr>\n",
       "  </thead>\n",
       "  <tbody>\n",
       "    <tr>\n",
       "      <th>0</th>\n",
       "      <td>380415</td>\n",
       "      <td>27.0</td>\n",
       "      <td>1.0</td>\n",
       "      <td>3.0</td>\n",
       "      <td>53.0</td>\n",
       "      <td>0.0</td>\n",
       "      <td>0.0</td>\n",
       "      <td>25.85</td>\n",
       "      <td>7308.66</td>\n",
       "      <td>8885.0</td>\n",
       "      <td>547.0</td>\n",
       "      <td>1000.0</td>\n",
       "      <td>0</td>\n",
       "    </tr>\n",
       "    <tr>\n",
       "      <th>1</th>\n",
       "      <td>153249</td>\n",
       "      <td>54.0</td>\n",
       "      <td>1.0</td>\n",
       "      <td>3.0</td>\n",
       "      <td>142.0</td>\n",
       "      <td>0.0</td>\n",
       "      <td>0.0</td>\n",
       "      <td>12.05</td>\n",
       "      <td>6268.00</td>\n",
       "      <td>3807.0</td>\n",
       "      <td>506.0</td>\n",
       "      <td>2050.0</td>\n",
       "      <td>0</td>\n",
       "    </tr>\n",
       "    <tr>\n",
       "      <th>2</th>\n",
       "      <td>82776</td>\n",
       "      <td>44.0</td>\n",
       "      <td>2.0</td>\n",
       "      <td>5.0</td>\n",
       "      <td>70.0</td>\n",
       "      <td>0.0</td>\n",
       "      <td>0.0</td>\n",
       "      <td>369.04</td>\n",
       "      <td>15475.66</td>\n",
       "      <td>13883.0</td>\n",
       "      <td>554.0</td>\n",
       "      <td>500.0</td>\n",
       "      <td>0</td>\n",
       "    </tr>\n",
       "    <tr>\n",
       "      <th>3</th>\n",
       "      <td>190996</td>\n",
       "      <td>30.0</td>\n",
       "      <td>1.0</td>\n",
       "      <td>5.0</td>\n",
       "      <td>93.0</td>\n",
       "      <td>0.0</td>\n",
       "      <td>0.0</td>\n",
       "      <td>403.01</td>\n",
       "      <td>13294.33</td>\n",
       "      <td>13481.0</td>\n",
       "      <td>569.0</td>\n",
       "      <td>200.0</td>\n",
       "      <td>0</td>\n",
       "    </tr>\n",
       "    <tr>\n",
       "      <th>4</th>\n",
       "      <td>375566</td>\n",
       "      <td>36.0</td>\n",
       "      <td>1.0</td>\n",
       "      <td>5.0</td>\n",
       "      <td>116.0</td>\n",
       "      <td>0.0</td>\n",
       "      <td>39678.0</td>\n",
       "      <td>2143.38</td>\n",
       "      <td>20054.76</td>\n",
       "      <td>19227.4</td>\n",
       "      <td>633.0</td>\n",
       "      <td>7000.0</td>\n",
       "      <td>0</td>\n",
       "    </tr>\n",
       "    <tr>\n",
       "      <th>...</th>\n",
       "      <td>...</td>\n",
       "      <td>...</td>\n",
       "      <td>...</td>\n",
       "      <td>...</td>\n",
       "      <td>...</td>\n",
       "      <td>...</td>\n",
       "      <td>...</td>\n",
       "      <td>...</td>\n",
       "      <td>...</td>\n",
       "      <td>...</td>\n",
       "      <td>...</td>\n",
       "      <td>...</td>\n",
       "      <td>...</td>\n",
       "    </tr>\n",
       "    <tr>\n",
       "      <th>499995</th>\n",
       "      <td>171101</td>\n",
       "      <td>38.0</td>\n",
       "      <td>1.0</td>\n",
       "      <td>5.0</td>\n",
       "      <td>105.0</td>\n",
       "      <td>0.0</td>\n",
       "      <td>0.0</td>\n",
       "      <td>4.07</td>\n",
       "      <td>13524.66</td>\n",
       "      <td>6515.0</td>\n",
       "      <td>570.0</td>\n",
       "      <td>4800.0</td>\n",
       "      <td>0</td>\n",
       "    </tr>\n",
       "    <tr>\n",
       "      <th>499996</th>\n",
       "      <td>253792</td>\n",
       "      <td>56.0</td>\n",
       "      <td>1.0</td>\n",
       "      <td>5.0</td>\n",
       "      <td>141.0</td>\n",
       "      <td>0.0</td>\n",
       "      <td>0.0</td>\n",
       "      <td>349.92</td>\n",
       "      <td>18325.90</td>\n",
       "      <td>23619.8</td>\n",
       "      <td>662.0</td>\n",
       "      <td>2000.0</td>\n",
       "      <td>0</td>\n",
       "    </tr>\n",
       "    <tr>\n",
       "      <th>499997</th>\n",
       "      <td>42382</td>\n",
       "      <td>30.0</td>\n",
       "      <td>2.0</td>\n",
       "      <td>5.0</td>\n",
       "      <td>118.0</td>\n",
       "      <td>0.0</td>\n",
       "      <td>0.0</td>\n",
       "      <td>6175.33</td>\n",
       "      <td>54400.00</td>\n",
       "      <td>51200.0</td>\n",
       "      <td>635.0</td>\n",
       "      <td>15000.0</td>\n",
       "      <td>0</td>\n",
       "    </tr>\n",
       "    <tr>\n",
       "      <th>499998</th>\n",
       "      <td>148937</td>\n",
       "      <td>28.0</td>\n",
       "      <td>1.0</td>\n",
       "      <td>3.0</td>\n",
       "      <td>45.0</td>\n",
       "      <td>0.0</td>\n",
       "      <td>0.0</td>\n",
       "      <td>2063.75</td>\n",
       "      <td>5506.66</td>\n",
       "      <td>5840.0</td>\n",
       "      <td>603.0</td>\n",
       "      <td>530.0</td>\n",
       "      <td>0</td>\n",
       "    </tr>\n",
       "    <tr>\n",
       "      <th>499999</th>\n",
       "      <td>155613</td>\n",
       "      <td>39.0</td>\n",
       "      <td>1.0</td>\n",
       "      <td>5.0</td>\n",
       "      <td>44.0</td>\n",
       "      <td>0.0</td>\n",
       "      <td>0.0</td>\n",
       "      <td>11.72</td>\n",
       "      <td>14346.00</td>\n",
       "      <td>14846.0</td>\n",
       "      <td>639.0</td>\n",
       "      <td>1000.0</td>\n",
       "      <td>0</td>\n",
       "    </tr>\n",
       "  </tbody>\n",
       "</table>\n",
       "<p>499989 rows × 13 columns</p>\n",
       "</div>"
      ],
      "text/plain": [
       "        Customer_WID   Age  CustomerType  SOR  MonthsSinceOpen  \\\n",
       "0             380415  27.0           1.0  3.0             53.0   \n",
       "1             153249  54.0           1.0  3.0            142.0   \n",
       "2              82776  44.0           2.0  5.0             70.0   \n",
       "3             190996  30.0           1.0  5.0             93.0   \n",
       "4             375566  36.0           1.0  5.0            116.0   \n",
       "...              ...   ...           ...  ...              ...   \n",
       "499995        171101  38.0           1.0  5.0            105.0   \n",
       "499996        253792  56.0           1.0  5.0            141.0   \n",
       "499997         42382  30.0           2.0  5.0            118.0   \n",
       "499998        148937  28.0           1.0  3.0             45.0   \n",
       "499999        155613  39.0           1.0  5.0             44.0   \n",
       "\n",
       "        MonthsSinceActive  FinancialMeasure1  FinancialMeasure2  \\\n",
       "0                     0.0                0.0              25.85   \n",
       "1                     0.0                0.0              12.05   \n",
       "2                     0.0                0.0             369.04   \n",
       "3                     0.0                0.0             403.01   \n",
       "4                     0.0            39678.0            2143.38   \n",
       "...                   ...                ...                ...   \n",
       "499995                0.0                0.0               4.07   \n",
       "499996                0.0                0.0             349.92   \n",
       "499997                0.0                0.0            6175.33   \n",
       "499998                0.0                0.0            2063.75   \n",
       "499999                0.0                0.0              11.72   \n",
       "\n",
       "        FinancialMeasure3  FinancialMeasure4  CRBScore   Amount  Default  \n",
       "0                 7308.66             8885.0     547.0   1000.0        0  \n",
       "1                 6268.00             3807.0     506.0   2050.0        0  \n",
       "2                15475.66            13883.0     554.0    500.0        0  \n",
       "3                13294.33            13481.0     569.0    200.0        0  \n",
       "4                20054.76            19227.4     633.0   7000.0        0  \n",
       "...                   ...                ...       ...      ...      ...  \n",
       "499995           13524.66             6515.0     570.0   4800.0        0  \n",
       "499996           18325.90            23619.8     662.0   2000.0        0  \n",
       "499997           54400.00            51200.0     635.0  15000.0        0  \n",
       "499998            5506.66             5840.0     603.0    530.0        0  \n",
       "499999           14346.00            14846.0     639.0   1000.0        0  \n",
       "\n",
       "[499989 rows x 13 columns]"
      ]
     },
     "execution_count": 14,
     "metadata": {},
     "output_type": "execute_result"
    }
   ],
   "source": [
    "data=data[['Customer_WID','Age','CustomerType','SOR','MonthsSinceOpen','MonthsSinceActive','FinancialMeasure1','FinancialMeasure2','FinancialMeasure3','FinancialMeasure4','CRBScore','Amount','Default']]\n",
    "data"
   ]
  },
  {
   "cell_type": "markdown",
   "metadata": {},
   "source": [
    "drop unnecessary column"
   ]
  },
  {
   "cell_type": "code",
   "execution_count": 15,
   "metadata": {},
   "outputs": [],
   "source": [
    "data = data.drop(['Customer_WID'] ,axis =1)"
   ]
  },
  {
   "cell_type": "markdown",
   "metadata": {},
   "source": [
    "# Poportion of defaults vs nondefaults"
   ]
  },
  {
   "cell_type": "code",
   "execution_count": 16,
   "metadata": {},
   "outputs": [
    {
     "data": {
      "text/plain": [
       "<matplotlib.axes._subplots.AxesSubplot at 0x1f2c7fd96d8>"
      ]
     },
     "execution_count": 16,
     "metadata": {},
     "output_type": "execute_result"
    },
    {
     "data": {
      "image/png": "[encoded data removed]",
      "text/plain": [
       "<Figure size 432x288 with 1 Axes>"
      ]
     },
     "metadata": {
      "needs_background": "light"
     },
     "output_type": "display_data"
    }
   ],
   "source": [
    "#proportion of defaults vs nondefaults\n",
    "my_colors = ('b', 'r', 'g', 'y', 'k')\n",
    "data['Default'].value_counts().plot(kind='bar', stacked=True, color=my_colors)"
   ]
  },
  {
   "cell_type": "code",
   "execution_count": 17,
   "metadata": {},
   "outputs": [
    {
     "name": "stderr",
     "output_type": "stream",
     "text": [
      "C:\\Users\\Hp\\Anaconda3\\lib\\site-packages\\scipy\\stats\\stats.py:1713: FutureWarning: Using a non-tuple sequence for multidimensional indexing is deprecated; use `arr[tuple(seq)]` instead of `arr[seq]`. In the future this will be interpreted as an array index, `arr[np.array(seq)]`, which will result either in an error or a different result.\n",
      "  return np.add.reduce(sorted[indexer] * weights, axis=axis) / sumval\n"
     ]
    },
    {
     "data": {
      "text/plain": [
       "<matplotlib.axes._subplots.AxesSubplot at 0x1f2c8fb5748>"
      ]
     },
     "execution_count": 17,
     "metadata": {},
     "output_type": "execute_result"
    },
    {
     "data": {
      "image/png": "[encoded data removed]",
      "text/plain": [
       "<Figure size 720x360 with 1 Axes>"
      ]
     },
     "metadata": {
      "needs_background": "light"
     },
     "output_type": "display_data"
    }
   ],
   "source": [
    "#the frequency of taking loans considering ages\n",
    "import matplotlib.pyplot as plt\n",
    "plt.figure(figsize=(10,5))\n",
    "sns.set_style('darkgrid')\n",
    "sns.set_color_codes()\n",
    "sns.distplot(data['Age'].astype(int), color = 'r')"
   ]
  },
  {
   "cell_type": "markdown",
   "metadata": {},
   "source": [
    "# Amount of loan taken at each age group and proportion that was defaulted"
   ]
  },
  {
   "cell_type": "code",
   "execution_count": 18,
   "metadata": {},
   "outputs": [
    {
     "data": {
      "text/plain": [
       "<matplotlib.axes._subplots.AxesSubplot at 0x1f2c8fe2b38>"
      ]
     },
     "execution_count": 18,
     "metadata": {},
     "output_type": "execute_result"
    },
    {
     "data": {
      "image/png": "[encoded data removed]",
      "text/plain": [
       "<Figure size 1080x360 with 1 Axes>"
      ]
     },
     "metadata": {},
     "output_type": "display_data"
    }
   ],
   "source": [
    "#amount of loan taken at each age group and proportion that was defaulted\n",
    "import matplotlib.pyplot as plt\n",
    "plt.figure(figsize=(15,5))\n",
    "rotation = 90\n",
    "data['binned_age'] = pd.cut(data['Age'], bins = [15,25,35,45,55,65,75,85,95,105,115,125],labels= ['gen e','Gen z', 'centennials', 'Gen y' ,'xennials' ,'gen x', 'baby boomers', 'silent gen', 'great gen','greater gen','greatest gen'])\n",
    "sns.set_style('darkgrid')\n",
    "sns.barplot(x = data['binned_age'] , y = data['Amount'], hue = data['Default'])"
   ]
  },
  {
   "cell_type": "code",
   "execution_count": 19,
   "metadata": {},
   "outputs": [
    {
     "data": {
      "text/plain": [
       "747.0"
      ]
     },
     "execution_count": 19,
     "metadata": {},
     "output_type": "execute_result"
    }
   ],
   "source": [
    "data['CRBScore'].max()"
   ]
  },
  {
   "cell_type": "code",
   "execution_count": 20,
   "metadata": {},
   "outputs": [],
   "source": [
    "# data['binned_crb'] = pd.cut(data['CRBScore'], bins = [0,100,200,300,400,500,600,700,800],labels= ['ext_low','lowest','lower', 'low','middle', 'high','higher','highest'])\n",
    "# sns.set_style('darkgrid')\n",
    "# plt.figure(figsize=(15,5))\n",
    "# sns.barplot(x = data['binned_crb'] , y = data['Amount'], hue = data['Default'])"
   ]
  },
  {
   "cell_type": "code",
   "execution_count": 21,
   "metadata": {},
   "outputs": [
    {
     "data": {
      "text/html": [
       "<div>\n",
       "<style scoped>\n",
       "    .dataframe tbody tr th:only-of-type {\n",
       "        vertical-align: middle;\n",
       "    }\n",
       "\n",
       "    .dataframe tbody tr th {\n",
       "        vertical-align: top;\n",
       "    }\n",
       "\n",
       "    .dataframe thead th {\n",
       "        text-align: right;\n",
       "    }\n",
       "</style>\n",
       "<table border=\"1\" class=\"dataframe\">\n",
       "  <thead>\n",
       "    <tr style=\"text-align: right;\">\n",
       "      <th></th>\n",
       "      <th>Age</th>\n",
       "      <th>CustomerType</th>\n",
       "      <th>SOR</th>\n",
       "      <th>MonthsSinceOpen</th>\n",
       "      <th>MonthsSinceActive</th>\n",
       "      <th>FinancialMeasure1</th>\n",
       "      <th>FinancialMeasure2</th>\n",
       "      <th>FinancialMeasure3</th>\n",
       "      <th>FinancialMeasure4</th>\n",
       "      <th>CRBScore</th>\n",
       "      <th>Amount</th>\n",
       "      <th>Default</th>\n",
       "      <th>binned_age</th>\n",
       "    </tr>\n",
       "  </thead>\n",
       "  <tbody>\n",
       "    <tr>\n",
       "      <th>0</th>\n",
       "      <td>27.0</td>\n",
       "      <td>1.0</td>\n",
       "      <td>3.0</td>\n",
       "      <td>53.0</td>\n",
       "      <td>0.0</td>\n",
       "      <td>0.0</td>\n",
       "      <td>25.85</td>\n",
       "      <td>7308.66</td>\n",
       "      <td>8885.0</td>\n",
       "      <td>547.0</td>\n",
       "      <td>1000.0</td>\n",
       "      <td>0</td>\n",
       "      <td>Gen z</td>\n",
       "    </tr>\n",
       "    <tr>\n",
       "      <th>1</th>\n",
       "      <td>54.0</td>\n",
       "      <td>1.0</td>\n",
       "      <td>3.0</td>\n",
       "      <td>142.0</td>\n",
       "      <td>0.0</td>\n",
       "      <td>0.0</td>\n",
       "      <td>12.05</td>\n",
       "      <td>6268.00</td>\n",
       "      <td>3807.0</td>\n",
       "      <td>506.0</td>\n",
       "      <td>2050.0</td>\n",
       "      <td>0</td>\n",
       "      <td>Gen y</td>\n",
       "    </tr>\n",
       "    <tr>\n",
       "      <th>2</th>\n",
       "      <td>44.0</td>\n",
       "      <td>2.0</td>\n",
       "      <td>5.0</td>\n",
       "      <td>70.0</td>\n",
       "      <td>0.0</td>\n",
       "      <td>0.0</td>\n",
       "      <td>369.04</td>\n",
       "      <td>15475.66</td>\n",
       "      <td>13883.0</td>\n",
       "      <td>554.0</td>\n",
       "      <td>500.0</td>\n",
       "      <td>0</td>\n",
       "      <td>centennials</td>\n",
       "    </tr>\n",
       "    <tr>\n",
       "      <th>3</th>\n",
       "      <td>30.0</td>\n",
       "      <td>1.0</td>\n",
       "      <td>5.0</td>\n",
       "      <td>93.0</td>\n",
       "      <td>0.0</td>\n",
       "      <td>0.0</td>\n",
       "      <td>403.01</td>\n",
       "      <td>13294.33</td>\n",
       "      <td>13481.0</td>\n",
       "      <td>569.0</td>\n",
       "      <td>200.0</td>\n",
       "      <td>0</td>\n",
       "      <td>Gen z</td>\n",
       "    </tr>\n",
       "    <tr>\n",
       "      <th>4</th>\n",
       "      <td>36.0</td>\n",
       "      <td>1.0</td>\n",
       "      <td>5.0</td>\n",
       "      <td>116.0</td>\n",
       "      <td>0.0</td>\n",
       "      <td>39678.0</td>\n",
       "      <td>2143.38</td>\n",
       "      <td>20054.76</td>\n",
       "      <td>19227.4</td>\n",
       "      <td>633.0</td>\n",
       "      <td>7000.0</td>\n",
       "      <td>0</td>\n",
       "      <td>centennials</td>\n",
       "    </tr>\n",
       "  </tbody>\n",
       "</table>\n",
       "</div>"
      ],
      "text/plain": [
       "    Age  CustomerType  SOR  MonthsSinceOpen  MonthsSinceActive  \\\n",
       "0  27.0           1.0  3.0             53.0                0.0   \n",
       "1  54.0           1.0  3.0            142.0                0.0   \n",
       "2  44.0           2.0  5.0             70.0                0.0   \n",
       "3  30.0           1.0  5.0             93.0                0.0   \n",
       "4  36.0           1.0  5.0            116.0                0.0   \n",
       "\n",
       "   FinancialMeasure1  FinancialMeasure2  FinancialMeasure3  FinancialMeasure4  \\\n",
       "0                0.0              25.85            7308.66             8885.0   \n",
       "1                0.0              12.05            6268.00             3807.0   \n",
       "2                0.0             369.04           15475.66            13883.0   \n",
       "3                0.0             403.01           13294.33            13481.0   \n",
       "4            39678.0            2143.38           20054.76            19227.4   \n",
       "\n",
       "   CRBScore  Amount  Default   binned_age  \n",
       "0     547.0  1000.0        0        Gen z  \n",
       "1     506.0  2050.0        0        Gen y  \n",
       "2     554.0   500.0        0  centennials  \n",
       "3     569.0   200.0        0        Gen z  \n",
       "4     633.0  7000.0        0  centennials  "
      ]
     },
     "execution_count": 21,
     "metadata": {},
     "output_type": "execute_result"
    }
   ],
   "source": [
    "data.head()"
   ]
  },
  {
   "cell_type": "markdown",
   "metadata": {},
   "source": [
    "# bar graphs showing the proportion of each class in SOR, CustomerType and Binned_age"
   ]
  },
  {
   "cell_type": "code",
   "execution_count": 22,
   "metadata": {},
   "outputs": [
    {
     "data": {
      "image/png": "[encoded data removed]",
      "text/plain": [
       "<Figure size 1440x720 with 3 Axes>"
      ]
     },
     "metadata": {},
     "output_type": "display_data"
    }
   ],
   "source": [
    "plt.subplot(231)\n",
    "data['SOR'].value_counts(normalize=True).plot.bar(figsize=(20,10), title= 'SOR', color='g')\n",
    "\n",
    "plt.subplot(232)\n",
    "data['CustomerType'].value_counts(normalize=True).plot.bar(title= 'CustomerType', color = 'b')\n",
    "\n",
    "plt.subplot(233)\n",
    "data['binned_age'].value_counts(normalize=True).plot.bar(title= 'binned_age', color = 'r')\n",
    "\n",
    "\n",
    "plt.show()"
   ]
  },
  {
   "cell_type": "markdown",
   "metadata": {},
   "source": [
    "# average loan taken by each group of SOR and proportion that defaulted"
   ]
  },
  {
   "cell_type": "code",
   "execution_count": 23,
   "metadata": {},
   "outputs": [
    {
     "name": "stderr",
     "output_type": "stream",
     "text": [
      "C:\\Users\\Hp\\Anaconda3\\lib\\site-packages\\scipy\\stats\\stats.py:1713: FutureWarning: Using a non-tuple sequence for multidimensional indexing is deprecated; use `arr[tuple(seq)]` instead of `arr[seq]`. In the future this will be interpreted as an array index, `arr[np.array(seq)]`, which will result either in an error or a different result.\n",
      "  return np.add.reduce(sorted[indexer] * weights, axis=axis) / sumval\n"
     ]
    },
    {
     "data": {
      "text/plain": [
       "<matplotlib.axes._subplots.AxesSubplot at 0x1f2c9264668>"
      ]
     },
     "execution_count": 23,
     "metadata": {},
     "output_type": "execute_result"
    },
    {
     "data": {
      "image/png": "[encoded data removed]",
      "text/plain": [
       "<Figure size 1080x360 with 1 Axes>"
      ]
     },
     "metadata": {},
     "output_type": "display_data"
    }
   ],
   "source": [
    "\n",
    "\n",
    "plt.figure(figsize=(15,5))\n",
    "sns.barplot(x = data['SOR'] , y = data['Amount'] , hue = data['Default'], )"
   ]
  },
  {
   "cell_type": "markdown",
   "metadata": {},
   "source": [
    "# average loan taken by each group of CustomerType and proportion that defaulted"
   ]
  },
  {
   "cell_type": "code",
   "execution_count": 24,
   "metadata": {},
   "outputs": [
    {
     "data": {
      "text/plain": [
       "<matplotlib.axes._subplots.AxesSubplot at 0x1f2c97a42e8>"
      ]
     },
     "execution_count": 24,
     "metadata": {},
     "output_type": "execute_result"
    },
    {
     "data": {
      "image/png": "[encoded data removed]",
      "text/plain": [
       "<Figure size 1080x360 with 1 Axes>"
      ]
     },
     "metadata": {},
     "output_type": "display_data"
    }
   ],
   "source": [
    "plt.figure(figsize=(15,5))\n",
    "sns.barplot(x = data['CustomerType'] , y = data['Amount'] , hue = data['Default'], )"
   ]
  },
  {
   "cell_type": "code",
   "execution_count": 25,
   "metadata": {},
   "outputs": [],
   "source": [
    "# data['binned_amount'] = pd.cut(data['Amount'], bins = [0,20000,40000,60000,80000,100000,120000,140000,160000,180000,200000],labels= ['ext_low','lowest','lower', 'low','middle','mid', 'high','higher','highest','ext_high'])"
   ]
  },
  {
   "cell_type": "code",
   "execution_count": 26,
   "metadata": {},
   "outputs": [
    {
     "data": {
      "text/html": [
       "<div>\n",
       "<style scoped>\n",
       "    .dataframe tbody tr th:only-of-type {\n",
       "        vertical-align: middle;\n",
       "    }\n",
       "\n",
       "    .dataframe tbody tr th {\n",
       "        vertical-align: top;\n",
       "    }\n",
       "\n",
       "    .dataframe thead th {\n",
       "        text-align: right;\n",
       "    }\n",
       "</style>\n",
       "<table border=\"1\" class=\"dataframe\">\n",
       "  <thead>\n",
       "    <tr style=\"text-align: right;\">\n",
       "      <th></th>\n",
       "      <th>Age</th>\n",
       "      <th>CustomerType</th>\n",
       "      <th>SOR</th>\n",
       "      <th>MonthsSinceOpen</th>\n",
       "      <th>MonthsSinceActive</th>\n",
       "      <th>FinancialMeasure1</th>\n",
       "      <th>FinancialMeasure2</th>\n",
       "      <th>FinancialMeasure3</th>\n",
       "      <th>FinancialMeasure4</th>\n",
       "      <th>CRBScore</th>\n",
       "      <th>Amount</th>\n",
       "      <th>Default</th>\n",
       "      <th>binned_age</th>\n",
       "    </tr>\n",
       "  </thead>\n",
       "  <tbody>\n",
       "    <tr>\n",
       "      <th>0</th>\n",
       "      <td>27.0</td>\n",
       "      <td>1.0</td>\n",
       "      <td>3.0</td>\n",
       "      <td>53.0</td>\n",
       "      <td>0.0</td>\n",
       "      <td>0.0</td>\n",
       "      <td>25.85</td>\n",
       "      <td>7308.66</td>\n",
       "      <td>8885.0</td>\n",
       "      <td>547.0</td>\n",
       "      <td>1000.0</td>\n",
       "      <td>0</td>\n",
       "      <td>Gen z</td>\n",
       "    </tr>\n",
       "    <tr>\n",
       "      <th>1</th>\n",
       "      <td>54.0</td>\n",
       "      <td>1.0</td>\n",
       "      <td>3.0</td>\n",
       "      <td>142.0</td>\n",
       "      <td>0.0</td>\n",
       "      <td>0.0</td>\n",
       "      <td>12.05</td>\n",
       "      <td>6268.00</td>\n",
       "      <td>3807.0</td>\n",
       "      <td>506.0</td>\n",
       "      <td>2050.0</td>\n",
       "      <td>0</td>\n",
       "      <td>Gen y</td>\n",
       "    </tr>\n",
       "    <tr>\n",
       "      <th>2</th>\n",
       "      <td>44.0</td>\n",
       "      <td>2.0</td>\n",
       "      <td>5.0</td>\n",
       "      <td>70.0</td>\n",
       "      <td>0.0</td>\n",
       "      <td>0.0</td>\n",
       "      <td>369.04</td>\n",
       "      <td>15475.66</td>\n",
       "      <td>13883.0</td>\n",
       "      <td>554.0</td>\n",
       "      <td>500.0</td>\n",
       "      <td>0</td>\n",
       "      <td>centennials</td>\n",
       "    </tr>\n",
       "    <tr>\n",
       "      <th>3</th>\n",
       "      <td>30.0</td>\n",
       "      <td>1.0</td>\n",
       "      <td>5.0</td>\n",
       "      <td>93.0</td>\n",
       "      <td>0.0</td>\n",
       "      <td>0.0</td>\n",
       "      <td>403.01</td>\n",
       "      <td>13294.33</td>\n",
       "      <td>13481.0</td>\n",
       "      <td>569.0</td>\n",
       "      <td>200.0</td>\n",
       "      <td>0</td>\n",
       "      <td>Gen z</td>\n",
       "    </tr>\n",
       "    <tr>\n",
       "      <th>4</th>\n",
       "      <td>36.0</td>\n",
       "      <td>1.0</td>\n",
       "      <td>5.0</td>\n",
       "      <td>116.0</td>\n",
       "      <td>0.0</td>\n",
       "      <td>39678.0</td>\n",
       "      <td>2143.38</td>\n",
       "      <td>20054.76</td>\n",
       "      <td>19227.4</td>\n",
       "      <td>633.0</td>\n",
       "      <td>7000.0</td>\n",
       "      <td>0</td>\n",
       "      <td>centennials</td>\n",
       "    </tr>\n",
       "  </tbody>\n",
       "</table>\n",
       "</div>"
      ],
      "text/plain": [
       "    Age  CustomerType  SOR  MonthsSinceOpen  MonthsSinceActive  \\\n",
       "0  27.0           1.0  3.0             53.0                0.0   \n",
       "1  54.0           1.0  3.0            142.0                0.0   \n",
       "2  44.0           2.0  5.0             70.0                0.0   \n",
       "3  30.0           1.0  5.0             93.0                0.0   \n",
       "4  36.0           1.0  5.0            116.0                0.0   \n",
       "\n",
       "   FinancialMeasure1  FinancialMeasure2  FinancialMeasure3  FinancialMeasure4  \\\n",
       "0                0.0              25.85            7308.66             8885.0   \n",
       "1                0.0              12.05            6268.00             3807.0   \n",
       "2                0.0             369.04           15475.66            13883.0   \n",
       "3                0.0             403.01           13294.33            13481.0   \n",
       "4            39678.0            2143.38           20054.76            19227.4   \n",
       "\n",
       "   CRBScore  Amount  Default   binned_age  \n",
       "0     547.0  1000.0        0        Gen z  \n",
       "1     506.0  2050.0        0        Gen y  \n",
       "2     554.0   500.0        0  centennials  \n",
       "3     569.0   200.0        0        Gen z  \n",
       "4     633.0  7000.0        0  centennials  "
      ]
     },
     "execution_count": 26,
     "metadata": {},
     "output_type": "execute_result"
    }
   ],
   "source": [
    "data.head(5)"
   ]
  },
  {
   "cell_type": "code",
   "execution_count": 27,
   "metadata": {},
   "outputs": [
    {
     "data": {
      "image/png": "[encoded data removed]",
      "text/plain": [
       "<Figure size 864x504 with 1 Axes>"
      ]
     },
     "metadata": {},
     "output_type": "display_data"
    }
   ],
   "source": [
    "Amount_pivot =data.pivot_table(index='Default', values=\"Amount\", aggfunc=np.mean)\n",
    "Amount_pivot.plot(kind='bar', color=('y','g','r',),figsize=(12,7))\n",
    "plt.xlabel(\"Default\")\n",
    "plt.ylabel(\"Amount\")\n",
    "plt.legend().set_visible(False)\n",
    "plt.title(\"Impact of Amount on Loan Defaulting\")\n",
    "#plt.legend(loc='upper center', bbox_to_anchor=(1.1, 0.6), shadow=True, ncol=1)\n",
    "plt.xticks(rotation=0)\n",
    "plt.show()"
   ]
  },
  {
   "cell_type": "code",
   "execution_count": 28,
   "metadata": {},
   "outputs": [],
   "source": [
    "# Box Plot for variable Amount of training data set\n",
    "\n",
    "#data.boxplot(column='Amount')"
   ]
  },
  {
   "cell_type": "code",
   "execution_count": 29,
   "metadata": {},
   "outputs": [
    {
     "data": {
      "text/plain": [
       "<matplotlib.axes._subplots.AxesSubplot at 0x1f2c990ab00>"
      ]
     },
     "execution_count": 29,
     "metadata": {},
     "output_type": "execute_result"
    },
    {
     "data": {
      "image/png": "[encoded data removed]",
      "text/plain": [
       "<Figure size 1440x720 with 4 Axes>"
      ]
     },
     "metadata": {},
     "output_type": "display_data"
    }
   ],
   "source": [
    "#relation of  to financial measures to defaulting\n",
    "my_colors = ('b', 'r', 'g', 'y', 'k')\n",
    "plt.subplot(231)\n",
    "data.groupby('Default')['FinancialMeasure1'].mean().plot(kind='bar', figsize=(20,10), stacked=True, color=my_colors,title= 'FinancialMeasure1')\n",
    "\n",
    "plt.subplot(232)\n",
    "data.groupby('Default')['FinancialMeasure2'].mean().plot(kind='bar', stacked=True, color=my_colors, title= 'FinancialMeasure2')\n",
    "\n",
    "plt.subplot(234)\n",
    "data.groupby('Default')['FinancialMeasure3'].mean().plot(kind='bar', stacked=True, color=my_colors, title= 'FinancialMeasure3')\n",
    "\n",
    "plt.subplot(235)\n",
    "data.groupby('Default')['FinancialMeasure4'].mean().plot(kind='bar', stacked=True, color=my_colors, title= 'FinancialMeasure4')"
   ]
  },
  {
   "cell_type": "code",
   "execution_count": 30,
   "metadata": {},
   "outputs": [
    {
     "data": {
      "text/html": [
       "<div>\n",
       "<style scoped>\n",
       "    .dataframe tbody tr th:only-of-type {\n",
       "        vertical-align: middle;\n",
       "    }\n",
       "\n",
       "    .dataframe tbody tr th {\n",
       "        vertical-align: top;\n",
       "    }\n",
       "\n",
       "    .dataframe thead th {\n",
       "        text-align: right;\n",
       "    }\n",
       "</style>\n",
       "<table border=\"1\" class=\"dataframe\">\n",
       "  <thead>\n",
       "    <tr style=\"text-align: right;\">\n",
       "      <th></th>\n",
       "      <th>Age</th>\n",
       "      <th>CustomerType</th>\n",
       "      <th>SOR</th>\n",
       "      <th>MonthsSinceOpen</th>\n",
       "      <th>MonthsSinceActive</th>\n",
       "      <th>FinancialMeasure1</th>\n",
       "      <th>FinancialMeasure2</th>\n",
       "      <th>FinancialMeasure3</th>\n",
       "      <th>FinancialMeasure4</th>\n",
       "      <th>CRBScore</th>\n",
       "      <th>Amount</th>\n",
       "      <th>Default</th>\n",
       "      <th>binned_age</th>\n",
       "    </tr>\n",
       "  </thead>\n",
       "  <tbody>\n",
       "    <tr>\n",
       "      <th>0</th>\n",
       "      <td>27.0</td>\n",
       "      <td>1.0</td>\n",
       "      <td>3.0</td>\n",
       "      <td>53.0</td>\n",
       "      <td>0.0</td>\n",
       "      <td>0.0</td>\n",
       "      <td>25.85</td>\n",
       "      <td>7308.66</td>\n",
       "      <td>8885.0</td>\n",
       "      <td>547.0</td>\n",
       "      <td>1000.0</td>\n",
       "      <td>0</td>\n",
       "      <td>Gen z</td>\n",
       "    </tr>\n",
       "    <tr>\n",
       "      <th>1</th>\n",
       "      <td>54.0</td>\n",
       "      <td>1.0</td>\n",
       "      <td>3.0</td>\n",
       "      <td>142.0</td>\n",
       "      <td>0.0</td>\n",
       "      <td>0.0</td>\n",
       "      <td>12.05</td>\n",
       "      <td>6268.00</td>\n",
       "      <td>3807.0</td>\n",
       "      <td>506.0</td>\n",
       "      <td>2050.0</td>\n",
       "      <td>0</td>\n",
       "      <td>Gen y</td>\n",
       "    </tr>\n",
       "    <tr>\n",
       "      <th>2</th>\n",
       "      <td>44.0</td>\n",
       "      <td>2.0</td>\n",
       "      <td>5.0</td>\n",
       "      <td>70.0</td>\n",
       "      <td>0.0</td>\n",
       "      <td>0.0</td>\n",
       "      <td>369.04</td>\n",
       "      <td>15475.66</td>\n",
       "      <td>13883.0</td>\n",
       "      <td>554.0</td>\n",
       "      <td>500.0</td>\n",
       "      <td>0</td>\n",
       "      <td>centennials</td>\n",
       "    </tr>\n",
       "    <tr>\n",
       "      <th>3</th>\n",
       "      <td>30.0</td>\n",
       "      <td>1.0</td>\n",
       "      <td>5.0</td>\n",
       "      <td>93.0</td>\n",
       "      <td>0.0</td>\n",
       "      <td>0.0</td>\n",
       "      <td>403.01</td>\n",
       "      <td>13294.33</td>\n",
       "      <td>13481.0</td>\n",
       "      <td>569.0</td>\n",
       "      <td>200.0</td>\n",
       "      <td>0</td>\n",
       "      <td>Gen z</td>\n",
       "    </tr>\n",
       "    <tr>\n",
       "      <th>4</th>\n",
       "      <td>36.0</td>\n",
       "      <td>1.0</td>\n",
       "      <td>5.0</td>\n",
       "      <td>116.0</td>\n",
       "      <td>0.0</td>\n",
       "      <td>39678.0</td>\n",
       "      <td>2143.38</td>\n",
       "      <td>20054.76</td>\n",
       "      <td>19227.4</td>\n",
       "      <td>633.0</td>\n",
       "      <td>7000.0</td>\n",
       "      <td>0</td>\n",
       "      <td>centennials</td>\n",
       "    </tr>\n",
       "    <tr>\n",
       "      <th>...</th>\n",
       "      <td>...</td>\n",
       "      <td>...</td>\n",
       "      <td>...</td>\n",
       "      <td>...</td>\n",
       "      <td>...</td>\n",
       "      <td>...</td>\n",
       "      <td>...</td>\n",
       "      <td>...</td>\n",
       "      <td>...</td>\n",
       "      <td>...</td>\n",
       "      <td>...</td>\n",
       "      <td>...</td>\n",
       "      <td>...</td>\n",
       "    </tr>\n",
       "    <tr>\n",
       "      <th>499995</th>\n",
       "      <td>38.0</td>\n",
       "      <td>1.0</td>\n",
       "      <td>5.0</td>\n",
       "      <td>105.0</td>\n",
       "      <td>0.0</td>\n",
       "      <td>0.0</td>\n",
       "      <td>4.07</td>\n",
       "      <td>13524.66</td>\n",
       "      <td>6515.0</td>\n",
       "      <td>570.0</td>\n",
       "      <td>4800.0</td>\n",
       "      <td>0</td>\n",
       "      <td>centennials</td>\n",
       "    </tr>\n",
       "    <tr>\n",
       "      <th>499996</th>\n",
       "      <td>56.0</td>\n",
       "      <td>1.0</td>\n",
       "      <td>5.0</td>\n",
       "      <td>141.0</td>\n",
       "      <td>0.0</td>\n",
       "      <td>0.0</td>\n",
       "      <td>349.92</td>\n",
       "      <td>18325.90</td>\n",
       "      <td>23619.8</td>\n",
       "      <td>662.0</td>\n",
       "      <td>2000.0</td>\n",
       "      <td>0</td>\n",
       "      <td>xennials</td>\n",
       "    </tr>\n",
       "    <tr>\n",
       "      <th>499997</th>\n",
       "      <td>30.0</td>\n",
       "      <td>2.0</td>\n",
       "      <td>5.0</td>\n",
       "      <td>118.0</td>\n",
       "      <td>0.0</td>\n",
       "      <td>0.0</td>\n",
       "      <td>6175.33</td>\n",
       "      <td>54400.00</td>\n",
       "      <td>51200.0</td>\n",
       "      <td>635.0</td>\n",
       "      <td>15000.0</td>\n",
       "      <td>0</td>\n",
       "      <td>Gen z</td>\n",
       "    </tr>\n",
       "    <tr>\n",
       "      <th>499998</th>\n",
       "      <td>28.0</td>\n",
       "      <td>1.0</td>\n",
       "      <td>3.0</td>\n",
       "      <td>45.0</td>\n",
       "      <td>0.0</td>\n",
       "      <td>0.0</td>\n",
       "      <td>2063.75</td>\n",
       "      <td>5506.66</td>\n",
       "      <td>5840.0</td>\n",
       "      <td>603.0</td>\n",
       "      <td>530.0</td>\n",
       "      <td>0</td>\n",
       "      <td>Gen z</td>\n",
       "    </tr>\n",
       "    <tr>\n",
       "      <th>499999</th>\n",
       "      <td>39.0</td>\n",
       "      <td>1.0</td>\n",
       "      <td>5.0</td>\n",
       "      <td>44.0</td>\n",
       "      <td>0.0</td>\n",
       "      <td>0.0</td>\n",
       "      <td>11.72</td>\n",
       "      <td>14346.00</td>\n",
       "      <td>14846.0</td>\n",
       "      <td>639.0</td>\n",
       "      <td>1000.0</td>\n",
       "      <td>0</td>\n",
       "      <td>centennials</td>\n",
       "    </tr>\n",
       "  </tbody>\n",
       "</table>\n",
       "<p>499989 rows × 13 columns</p>\n",
       "</div>"
      ],
      "text/plain": [
       "         Age  CustomerType  SOR  MonthsSinceOpen  MonthsSinceActive  \\\n",
       "0       27.0           1.0  3.0             53.0                0.0   \n",
       "1       54.0           1.0  3.0            142.0                0.0   \n",
       "2       44.0           2.0  5.0             70.0                0.0   \n",
       "3       30.0           1.0  5.0             93.0                0.0   \n",
       "4       36.0           1.0  5.0            116.0                0.0   \n",
       "...      ...           ...  ...              ...                ...   \n",
       "499995  38.0           1.0  5.0            105.0                0.0   \n",
       "499996  56.0           1.0  5.0            141.0                0.0   \n",
       "499997  30.0           2.0  5.0            118.0                0.0   \n",
       "499998  28.0           1.0  3.0             45.0                0.0   \n",
       "499999  39.0           1.0  5.0             44.0                0.0   \n",
       "\n",
       "        FinancialMeasure1  FinancialMeasure2  FinancialMeasure3  \\\n",
       "0                     0.0              25.85            7308.66   \n",
       "1                     0.0              12.05            6268.00   \n",
       "2                     0.0             369.04           15475.66   \n",
       "3                     0.0             403.01           13294.33   \n",
       "4                 39678.0            2143.38           20054.76   \n",
       "...                   ...                ...                ...   \n",
       "499995                0.0               4.07           13524.66   \n",
       "499996                0.0             349.92           18325.90   \n",
       "499997                0.0            6175.33           54400.00   \n",
       "499998                0.0            2063.75            5506.66   \n",
       "499999                0.0              11.72           14346.00   \n",
       "\n",
       "        FinancialMeasure4  CRBScore   Amount  Default   binned_age  \n",
       "0                  8885.0     547.0   1000.0        0        Gen z  \n",
       "1                  3807.0     506.0   2050.0        0        Gen y  \n",
       "2                 13883.0     554.0    500.0        0  centennials  \n",
       "3                 13481.0     569.0    200.0        0        Gen z  \n",
       "4                 19227.4     633.0   7000.0        0  centennials  \n",
       "...                   ...       ...      ...      ...          ...  \n",
       "499995             6515.0     570.0   4800.0        0  centennials  \n",
       "499996            23619.8     662.0   2000.0        0     xennials  \n",
       "499997            51200.0     635.0  15000.0        0        Gen z  \n",
       "499998             5840.0     603.0    530.0        0        Gen z  \n",
       "499999            14846.0     639.0   1000.0        0  centennials  \n",
       "\n",
       "[499989 rows x 13 columns]"
      ]
     },
     "execution_count": 30,
     "metadata": {},
     "output_type": "execute_result"
    }
   ],
   "source": [
    "data"
   ]
  },
  {
   "cell_type": "code",
   "execution_count": 31,
   "metadata": {},
   "outputs": [],
   "source": [
    "# data['binned_mthopen'] = pd.cut(data['Amount'], bins = [0,12,24,36,48,60,72,84,96,108,120,132,144],labels= ['1yr','2yr','3yr','4yr','5yr','6yr','7yr','8yr','9yr','10yr','11yr','12yr'])\n",
    "# data.head()"
   ]
  },
  {
   "cell_type": "markdown",
   "metadata": {},
   "source": [
    "# Defaulting in relation to CRBScore"
   ]
  },
  {
   "cell_type": "code",
   "execution_count": 32,
   "metadata": {},
   "outputs": [
    {
     "data": {
      "image/png": "[encoded data removed]",
      "text/plain": [
       "<Figure size 864x504 with 1 Axes>"
      ]
     },
     "metadata": {},
     "output_type": "display_data"
    }
   ],
   "source": [
    "CRB_pivot =data.pivot_table(index='Default', values=\"CRBScore\", aggfunc=np.mean)\n",
    "CRB_pivot.plot(kind='bar', color=('g','r','k',),figsize=(12,7))\n",
    "plt.xlabel(\"Default\")\n",
    "plt.ylabel(\"CRBScore\")\n",
    "plt.legend().set_visible(False)\n",
    "plt.title(\"Impact of CRBScore on Loan Defaulting\")\n",
    "#plt.legend(loc='upper center', bbox_to_anchor=(1.1, 0.6), shadow=True, ncol=1)\n",
    "plt.xticks(rotation=0)\n",
    "plt.show()"
   ]
  },
  {
   "cell_type": "markdown",
   "metadata": {},
   "source": [
    "# MonthsSinceOpen MonthsSinceActive in relation to defaulting"
   ]
  },
  {
   "cell_type": "code",
   "execution_count": 33,
   "metadata": {},
   "outputs": [
    {
     "data": {
      "text/plain": [
       "<matplotlib.axes._subplots.AxesSubplot at 0x1f2c96862e8>"
      ]
     },
     "execution_count": 33,
     "metadata": {},
     "output_type": "execute_result"
    },
    {
     "data": {
      "image/png": "[encoded data removed]",
      "text/plain": [
       "<Figure size 1440x720 with 2 Axes>"
      ]
     },
     "metadata": {},
     "output_type": "display_data"
    }
   ],
   "source": [
    "#MonthsSinceOpen MonthsSinceActive in relation to defaulting\n",
    "my_colors = ('b', 'r', 'g', 'y', 'k')\n",
    "plt.subplot(231)\n",
    "data.groupby('Default')['MonthsSinceOpen'].mean().plot(kind='bar', figsize=(20,10), stacked=True, color=my_colors,title= 'MonthsSinceOpen')\n",
    "\n",
    "plt.subplot(232)\n",
    "data.groupby('Default')['MonthsSinceActive'].mean().plot(kind='bar', stacked=True, color=my_colors, title= 'MonthsSinceActive')\n"
   ]
  },
  {
   "cell_type": "markdown",
   "metadata": {},
   "source": [
    "# every age group in relation to defaulting loan"
   ]
  },
  {
   "cell_type": "code",
   "execution_count": 34,
   "metadata": {},
   "outputs": [
    {
     "data": {
      "text/plain": [
       "<matplotlib.axes._subplots.AxesSubplot at 0x1f2c9507a58>"
      ]
     },
     "execution_count": 34,
     "metadata": {},
     "output_type": "execute_result"
    },
    {
     "data": {
      "image/png": "[encoded data removed]",
      "text/plain": [
       "<Figure size 1080x504 with 1 Axes>"
      ]
     },
     "metadata": {},
     "output_type": "display_data"
    }
   ],
   "source": [
    "# every age group in relation to defaulting loan\n",
    "my_colors = ('b', 'r')\n",
    "data.groupby('binned_age')['Default'].value_counts().plot(kind='bar', stacked=True, figsize=(15,7) , color = my_colors)"
   ]
  },
  {
   "cell_type": "code",
   "execution_count": 35,
   "metadata": {},
   "outputs": [],
   "source": [
    "# # Histogram of CRBScore\n",
    "\n",
    "# data['CRBScore'].hist(bins=50,color = 'y' , figsize=(15,5))\n",
    "# plt.title('CRBScore Histogram')\n",
    "# plt.xlabel('')\n",
    "# plt.ylabel('')\n",
    "# plt.show()\n",
    "\n"
   ]
  },
  {
   "cell_type": "code",
   "execution_count": 36,
   "metadata": {},
   "outputs": [
    {
     "data": {
      "text/plain": [
       "<matplotlib.axes._subplots.AxesSubplot at 0x1f2c9e8bdd8>"
      ]
     },
     "execution_count": 36,
     "metadata": {},
     "output_type": "execute_result"
    },
    {
     "data": {
      "image/png": "[encoded data removed]",
      "text/plain": [
       "<Figure size 1080x504 with 1 Axes>"
      ]
     },
     "metadata": {},
     "output_type": "display_data"
    }
   ],
   "source": [
    "#CustomerType\tSOR\n",
    "my_colors = ('b', 'r')\n",
    "data.groupby('CustomerType')['Default'].value_counts().plot(kind='bar', stacked=True, figsize=(15,7) , color = my_colors)"
   ]
  },
  {
   "cell_type": "code",
   "execution_count": 37,
   "metadata": {},
   "outputs": [
    {
     "data": {
      "text/plain": [
       "<matplotlib.axes._subplots.AxesSubplot at 0x1f2c9974b00>"
      ]
     },
     "execution_count": 37,
     "metadata": {},
     "output_type": "execute_result"
    },
    {
     "data": {
      "image/png": "[encoded data removed]",
      "text/plain": [
       "<Figure size 1080x504 with 1 Axes>"
      ]
     },
     "metadata": {},
     "output_type": "display_data"
    }
   ],
   "source": [
    "#CustomerType\tSOR\n",
    "my_colors = ('b', 'r')\n",
    "data.groupby('SOR')['Default'].value_counts().plot(kind='bar', stacked=True, figsize=(15,7) , color = my_colors)"
   ]
  },
  {
   "cell_type": "code",
   "execution_count": 38,
   "metadata": {},
   "outputs": [
    {
     "data": {
      "text/plain": [
       "Index(['Age', 'CustomerType', 'SOR', 'MonthsSinceOpen', 'MonthsSinceActive',\n",
       "       'FinancialMeasure1', 'FinancialMeasure2', 'FinancialMeasure3',\n",
       "       'FinancialMeasure4', 'CRBScore', 'Amount', 'Default', 'binned_age'],\n",
       "      dtype='object')"
      ]
     },
     "execution_count": 38,
     "metadata": {},
     "output_type": "execute_result"
    }
   ],
   "source": [
    "data.columns"
   ]
  },
  {
   "cell_type": "code",
   "execution_count": 40,
   "metadata": {},
   "outputs": [],
   "source": [
    "#make a column for each categorical data\n",
    "# Select the categorical columns\n",
    "categorical_subset = data[['binned_age']]\n",
    "\n",
    "# One hot encode\n",
    "categorical_subset = pd.get_dummies(categorical_subset)\n",
    "\n",
    "data.drop(labels=['binned_age'], axis=1, inplace=True)\n",
    "data = pd.concat([data, categorical_subset], axis = 1)"
   ]
  },
  {
   "cell_type": "code",
   "execution_count": 41,
   "metadata": {},
   "outputs": [
    {
     "data": {
      "text/plain": [
       "Index(['Age', 'CustomerType', 'SOR', 'MonthsSinceOpen', 'MonthsSinceActive',\n",
       "       'FinancialMeasure1', 'FinancialMeasure2', 'FinancialMeasure3',\n",
       "       'FinancialMeasure4', 'CRBScore', 'Amount', 'Default',\n",
       "       'binned_age_gen e', 'binned_age_Gen z', 'binned_age_centennials',\n",
       "       'binned_age_Gen y', 'binned_age_xennials', 'binned_age_gen x',\n",
       "       'binned_age_baby boomers', 'binned_age_silent gen',\n",
       "       'binned_age_great gen', 'binned_age_greater gen',\n",
       "       'binned_age_greatest gen'],\n",
       "      dtype='object')"
      ]
     },
     "execution_count": 41,
     "metadata": {},
     "output_type": "execute_result"
    }
   ],
   "source": [
    "data.columns"
   ]
  },
  {
   "cell_type": "code",
   "execution_count": 43,
   "metadata": {},
   "outputs": [],
   "source": [
    "y = data['Default']\n",
    "X = data[['Age', 'CustomerType', 'SOR', 'MonthsSinceOpen', 'MonthsSinceActive',\n",
    "       'FinancialMeasure1', 'FinancialMeasure2', 'FinancialMeasure3',\n",
    "       'FinancialMeasure4', 'CRBScore', 'Amount',\n",
    "       'binned_age_gen e', 'binned_age_Gen z', 'binned_age_centennials',\n",
    "       'binned_age_Gen y', 'binned_age_xennials', 'binned_age_gen x',\n",
    "       'binned_age_baby boomers', 'binned_age_silent gen',\n",
    "       'binned_age_great gen', 'binned_age_greater gen',\n",
    "       'binned_age_greatest gen']]\n",
    "from sklearn.model_selection import train_test_split\n",
    "X_train, X_test, y_train, y_test = train_test_split(X, y, test_size=0.3, random_state=101)\n",
    "# from sklearn.linear_model import LogisticRegression\n",
    "# lm = LogisticRegression()\n",
    "# y_pred =lm.fit(X_train, y_train)\n",
    "# print('Coefficients: \\n', lm.coef_)\n",
    "# predictions = lm.predict(X_test)"
   ]
  },
  {
   "cell_type": "code",
   "execution_count": 45,
   "metadata": {},
   "outputs": [],
   "source": [
    "from sklearn.metrics import confusion_matrix,accuracy_score,recall_score,classification_report"
   ]
  },
  {
   "cell_type": "code",
   "execution_count": 46,
   "metadata": {},
   "outputs": [
    {
     "name": "stdout",
     "output_type": "stream",
     "text": [
      "Accuracy score :  0.9760861883904345\n",
      "Recall score   :  0.0\n",
      "classification report :\n",
      "              precision    recall  f1-score   support\n",
      "\n",
      "          0       1.00      0.98      0.99    149989\n",
      "          1       0.00      0.00      0.00         8\n",
      "\n",
      "avg / total       1.00      0.98      0.99    149997\n",
      "\n"
     ]
    }
   ],
   "source": [
    "from sklearn.linear_model import LogisticRegression\n",
    "# Train model\n",
    "clf_0 = LogisticRegression().fit(X_train, y_train)\n",
    " \n",
    "# Predict on training set\n",
    "pred_y_0 = clf_0.predict(X_test)\n",
    "print(\"Accuracy score : \",accuracy_score(y_test, pred_y_0))\n",
    "print (\"Recall score   : \", recall_score(pred_y_0,y_test))\n",
    "confusion_matrix(y_test, pred_y_0)\n",
    "print (\"classification report :\\n\",classification_report(pred_y_0,y_test))"
   ]
  },
  {
   "cell_type": "code",
   "execution_count": 47,
   "metadata": {},
   "outputs": [
    {
     "name": "stderr",
     "output_type": "stream",
     "text": [
      "C:\\Users\\Hp\\Anaconda3\\lib\\site-packages\\sklearn\\ensemble\\weight_boosting.py:29: DeprecationWarning: numpy.core.umath_tests is an internal NumPy module and should not be imported. It will be removed in a future NumPy release.\n",
      "  from numpy.core.umath_tests import inner1d\n"
     ]
    },
    {
     "name": "stdout",
     "output_type": "stream",
     "text": [
      "Accuracy score :  0.9762261911904905\n",
      "Recall score   :  0.5488721804511278\n",
      "classification report :\n",
      "              precision    recall  f1-score   support\n",
      "\n",
      "          0       1.00      0.98      0.99    149864\n",
      "          1       0.02      0.55      0.04       133\n",
      "\n",
      "avg / total       1.00      0.98      0.99    149997\n",
      "\n"
     ]
    }
   ],
   "source": [
    "from sklearn.ensemble import RandomForestClassifier\n",
    "clf_rf_s = RandomForestClassifier(n_estimators=40, random_state=21)\n",
    "clf_rf_s.fit(X_train, y_train)\n",
    "clf_rf_pred_s= clf_rf_s.predict(X_test)\n",
    "print(\"Accuracy score : \",accuracy_score(y_test, clf_rf_pred_s))\n",
    "print (\"Recall score   : \", recall_score(clf_rf_pred_s,y_test))\n",
    "confusion_matrix(y_test, clf_rf_pred_s)\n",
    "print (\"classification report :\\n\",classification_report(clf_rf_pred_s,y_test))"
   ]
  },
  {
   "cell_type": "code",
   "execution_count": null,
   "metadata": {},
   "outputs": [],
   "source": []
  }
 ],
 "metadata": {
  "kernelspec": {
   "display_name": "Python 3",
   "language": "python",
   "name": "python3"
  },
  "language_info": {
   "codemirror_mode": {
    "name": "ipython",
    "version": 3
   },
   "file_extension": ".py",
   "mimetype": "text/x-python",
   "name": "python",
   "nbconvert_exporter": "python",
   "pygments_lexer": "ipython3",
   "version": "3.7.3"
  }
 },
 "nbformat": 4,
 "nbformat_minor": 2
}
